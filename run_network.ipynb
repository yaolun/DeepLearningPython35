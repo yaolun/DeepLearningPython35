{
 "cells": [
  {
   "cell_type": "code",
   "execution_count": 1,
   "metadata": {
    "collapsed": true
   },
   "outputs": [],
   "source": [
    "import mnist_loader\n",
    "training_data, validation_data, test_data = mnist_loader.load_data_wrapper()"
   ]
  },
  {
   "cell_type": "code",
   "execution_count": 2,
   "metadata": {
    "collapsed": true
   },
   "outputs": [],
   "source": [
    "import network\n",
    "net = network.Network([784, 30, 10])"
   ]
  },
  {
   "cell_type": "code",
   "execution_count": 3,
   "metadata": {},
   "outputs": [
    {
     "name": "stdout",
     "output_type": "stream",
     "text": [
      "Epoch 0 : 9059 / 10000\n",
      "Epoch 1 : 9177 / 10000\n",
      "Epoch 2 : 9248 / 10000\n",
      "Epoch 3 : 9312 / 10000\n",
      "Epoch 4 : 9285 / 10000\n",
      "Epoch 5 : 9320 / 10000\n",
      "Epoch 6 : 9389 / 10000\n",
      "Epoch 7 : 9400 / 10000\n",
      "Epoch 8 : 9382 / 10000\n",
      "Epoch 9 : 9378 / 10000\n",
      "Epoch 10 : 9416 / 10000\n",
      "Epoch 11 : 9377 / 10000\n",
      "Epoch 12 : 9394 / 10000\n",
      "Epoch 13 : 9390 / 10000\n",
      "Epoch 14 : 9356 / 10000\n",
      "Epoch 15 : 9431 / 10000\n",
      "Epoch 16 : 9463 / 10000\n",
      "Epoch 17 : 9430 / 10000\n",
      "Epoch 18 : 9420 / 10000\n",
      "Epoch 19 : 9445 / 10000\n",
      "Epoch 20 : 9444 / 10000\n",
      "Epoch 21 : 9456 / 10000\n",
      "Epoch 22 : 9460 / 10000\n",
      "Epoch 23 : 9450 / 10000\n",
      "Epoch 24 : 9449 / 10000\n",
      "Epoch 25 : 9477 / 10000\n",
      "Epoch 26 : 9472 / 10000\n",
      "Epoch 27 : 9458 / 10000\n",
      "Epoch 28 : 9468 / 10000\n",
      "Epoch 29 : 9431 / 10000\n"
     ]
    }
   ],
   "source": [
    "net.SGD(training_data, 30, 10, 10.0, test_data=test_data)"
   ]
  },
  {
   "cell_type": "code",
   "execution_count": null,
   "metadata": {
    "collapsed": true
   },
   "outputs": [],
   "source": []
  }
 ],
 "metadata": {
  "kernelspec": {
   "display_name": "Python 3",
   "language": "python",
   "name": "python3"
  },
  "language_info": {
   "codemirror_mode": {
    "name": "ipython",
    "version": 3
   },
   "file_extension": ".py",
   "mimetype": "text/x-python",
   "name": "python",
   "nbconvert_exporter": "python",
   "pygments_lexer": "ipython3",
   "version": "3.6.2"
  }
 },
 "nbformat": 4,
 "nbformat_minor": 2
}
